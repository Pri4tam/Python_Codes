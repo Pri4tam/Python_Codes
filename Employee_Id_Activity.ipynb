{
 "cells": [
  {
   "cell_type": "markdown",
   "id": "a3de5e6d",
   "metadata": {},
   "source": [
    "ABCXYZ company has up to  employees.\n",
    "The company decides to create a unique identification number (UID) for each of its employees.\n",
    "The company has assigned you the task of validating all the randomly generated UIDs.\n",
    "\n",
    "A valid UID must follow the rules below:\n",
    "\n",
    "1.It must contain at least 2 uppercase English alphabet characters.\n",
    "2.It must contain at least 3 digits (0 - 9).\n",
    "3.It should only contain alphanumeric characters ( a-z ,A-Z  &  0-9 ).\n",
    "4.No character should repeat.\n",
    "5.There must be exactly 10 characters in a valid UID.\n",
    "Input Format\n",
    "The first line contains an integer X, the number of test cases.\n",
    "The next lines contains an employee's UID.\n",
    "\n",
    "For each test case, print 'Valid' if the UID is valid. Otherwise, print 'Invalid', on separate lines.\n",
    "Do not print the quotation marks."
   ]
  },
  {
   "cell_type": "code",
   "execution_count": 118,
   "id": "ecfb2362",
   "metadata": {},
   "outputs": [
    {
     "name": "stdout",
     "output_type": "stream",
     "text": [
      "1\n",
      "adf\n",
      "Invalid\n"
     ]
    }
   ],
   "source": [
    "import re\n",
    "x=int(input())\n",
    "for i in range(x):\n",
    "    j=input().strip()\n",
    "    u=[]\n",
    "    for l in j:\n",
    "        if l.isupper()==True:\n",
    "            u.append(l)\n",
    "\n",
    "    num=re.findall(r\"\\d\",j)\n",
    "    y=re.findall(r\"\\W\",j)\n",
    "    unique=[]\n",
    "    for k in j:\n",
    "        if k not in unique:\n",
    "            unique.append(k)\n",
    "    if len(u)>=2 and len(num)>2 and len(y) == 0 and len(j)== 10 and len(unique)==len(j):\n",
    "        print(\"Valid\")\n",
    "    else:\n",
    "        print(\"Invalid\")"
   ]
  },
  {
   "cell_type": "code",
   "execution_count": null,
   "id": "99b6eca0",
   "metadata": {},
   "outputs": [],
   "source": []
  },
  {
   "cell_type": "code",
   "execution_count": null,
   "id": "b8fed548",
   "metadata": {},
   "outputs": [],
   "source": []
  },
  {
   "cell_type": "code",
   "execution_count": null,
   "id": "14cfef8a",
   "metadata": {},
   "outputs": [],
   "source": []
  },
  {
   "cell_type": "code",
   "execution_count": null,
   "id": "f694dafe",
   "metadata": {},
   "outputs": [],
   "source": []
  },
  {
   "cell_type": "code",
   "execution_count": null,
   "id": "c0e12768",
   "metadata": {},
   "outputs": [],
   "source": []
  },
  {
   "cell_type": "code",
   "execution_count": null,
   "id": "5fe48ecc",
   "metadata": {},
   "outputs": [],
   "source": []
  },
  {
   "cell_type": "code",
   "execution_count": null,
   "id": "481a22a6",
   "metadata": {},
   "outputs": [],
   "source": []
  },
  {
   "cell_type": "code",
   "execution_count": null,
   "id": "4a497fb0",
   "metadata": {},
   "outputs": [],
   "source": []
  },
  {
   "cell_type": "code",
   "execution_count": null,
   "id": "c8606277",
   "metadata": {},
   "outputs": [],
   "source": []
  },
  {
   "cell_type": "code",
   "execution_count": null,
   "id": "d5489dc6",
   "metadata": {},
   "outputs": [],
   "source": []
  }
 ],
 "metadata": {
  "kernelspec": {
   "display_name": "Python 3 (ipykernel)",
   "language": "python",
   "name": "python3"
  },
  "language_info": {
   "codemirror_mode": {
    "name": "ipython",
    "version": 3
   },
   "file_extension": ".py",
   "mimetype": "text/x-python",
   "name": "python",
   "nbconvert_exporter": "python",
   "pygments_lexer": "ipython3",
   "version": "3.10.2"
  }
 },
 "nbformat": 4,
 "nbformat_minor": 5
}
