{
 "cells": [
  {
   "cell_type": "markdown",
   "id": "644a8c17",
   "metadata": {},
   "source": [
    "Given the participants' score sheet for your University Sports Day, you are required to find the runner-up score. You are given  scores. Store them in a list and find the score of the runner-up."
   ]
  },
  {
   "cell_type": "code",
   "execution_count": 97,
   "id": "0d9d12fb",
   "metadata": {},
   "outputs": [
    {
     "name": "stdout",
     "output_type": "stream",
     "text": [
      "1\n",
      "12 32 12 22 21 11\n"
     ]
    }
   ],
   "source": [
    "score = map(int, input().split())\n",
    "unique=[]\n",
    "for i in score:\n",
    "    if i not in unique:\n",
    "        unique.append(i)\n",
    "s=sorted(unique)\n",
    "print(s[-2])"
   ]
  },
  {
   "cell_type": "markdown",
   "id": "1bdcc99a",
   "metadata": {},
   "source": [
    "Given the names and grades for each student in a class of N students, store them in a nested list and print the name(s) of any student(s) having the second lowest grade.\n",
    "\n",
    "Note: If there are multiple students with the second lowest grade, order their names alphabetically and print each name on a new line."
   ]
  },
  {
   "cell_type": "code",
   "execution_count": 90,
   "id": "9285d74a",
   "metadata": {},
   "outputs": [
    {
     "name": "stdout",
     "output_type": "stream",
     "text": [
      "['bc', 'cd']\n"
     ]
    }
   ],
   "source": [
    "#sg to store name and score of given students\n",
    "sg=[]\n",
    "for _ in range(int(input())):\n",
    "        name = input()\n",
    "        score = float(input())\n",
    "        sg.append([name,score])\n",
    "#To store grade of student\n",
    "grade=[]\n",
    "for i in sg:\n",
    "    grade.append(i[-1])\n",
    "grade\n",
    "#Store unique grade and sort them in ascending order\n",
    "unique_grade=[]\n",
    "for i in grade:\n",
    "    if i not in unique_grade:\n",
    "        unique_grade.append(i)\n",
    "unique_grade.sort()\n",
    "#l to store second lowest grade\n",
    "l=unique_grade[1]\n",
    "#To store name of student who got second lowest grade and sort them in ascending order\n",
    "L_name=[]\n",
    "for i in sg:\n",
    "    if i[-1]==l:\n",
    "        L_name.append(i[0])\n",
    "L_name.sort()\n",
    "# To print output one below another i.e in vertical format\n",
    "for i in L_name:\n",
    "    print(i)\n",
    "        "
   ]
  },
  {
   "cell_type": "code",
   "execution_count": null,
   "id": "7529537f",
   "metadata": {},
   "outputs": [],
   "source": []
  }
 ],
 "metadata": {
  "kernelspec": {
   "display_name": "Python 3 (ipykernel)",
   "language": "python",
   "name": "python3"
  },
  "language_info": {
   "codemirror_mode": {
    "name": "ipython",
    "version": 3
   },
   "file_extension": ".py",
   "mimetype": "text/x-python",
   "name": "python",
   "nbconvert_exporter": "python",
   "pygments_lexer": "ipython3",
   "version": "3.10.2"
  }
 },
 "nbformat": 4,
 "nbformat_minor": 5
}
